{
 "cells": [
  {
   "cell_type": "code",
   "execution_count": 1,
   "metadata": {},
   "outputs": [],
   "source": [
    "import cv2\n",
    "import numpy as np\n",
    "from math import sqrt\n",
    "from heapq import nsmallest\n",
    "from heapq import nlargest"
   ]
  },
  {
   "cell_type": "code",
   "execution_count": 40,
   "metadata": {},
   "outputs": [],
   "source": [
    "img_train = cv2.imread(\"train.png\", cv2.IMREAD_GRAYSCALE)\n",
    "img_test = cv2.imread(\"test.png\", cv2.IMREAD_GRAYSCALE)\n",
    "# cv2.imshow(\"train\", img_train)\n",
    "# cv2.imshow(\"test\", img_test)"
   ]
  },
  {
   "cell_type": "code",
   "execution_count": 41,
   "metadata": {},
   "outputs": [
    {
     "name": "stdout",
     "output_type": "stream",
     "text": [
      "[[0 0 0 ... 0 0 0]\n",
      " [0 0 0 ... 0 0 0]\n",
      " [0 0 0 ... 0 0 0]\n",
      " ...\n",
      " [0 0 0 ... 0 0 0]\n",
      " [0 0 0 ... 0 0 0]\n",
      " [0 0 0 ... 0 0 0]]\n"
     ]
    }
   ],
   "source": [
    "print(img_test)"
   ]
  },
  {
   "cell_type": "code",
   "execution_count": 42,
   "metadata": {},
   "outputs": [],
   "source": [
    "row_img = 50\n",
    "col_img = 50\n",
    "tot = 250\n",
    "img_per_baris = np.vsplit(img_train, row_img)\n",
    "cells = []\n",
    "for row in img_per_baris:\n",
    "    per_digit = np.hsplit(row, col_img)\n",
    "    for cell in per_digit:\n",
    "        cell = cell.ravel()\n",
    "        cells.append(cell)\n",
    "# print(cells[0])"
   ]
  },
  {
   "cell_type": "code",
   "execution_count": 43,
   "metadata": {},
   "outputs": [],
   "source": [
    "# cells[0]"
   ]
  },
  {
   "cell_type": "code",
   "execution_count": 44,
   "metadata": {},
   "outputs": [],
   "source": [
    "k = np.arange(0,10)\n",
    "label = np.repeat(k, 250)"
   ]
  },
  {
   "cell_type": "code",
   "execution_count": 45,
   "metadata": {},
   "outputs": [
    {
     "data": {
      "text/plain": [
       "2500"
      ]
     },
     "execution_count": 45,
     "metadata": {},
     "output_type": "execute_result"
    }
   ],
   "source": [
    "len(label)"
   ]
  },
  {
   "cell_type": "code",
   "execution_count": 46,
   "metadata": {},
   "outputs": [],
   "source": [
    "img_test = np.vsplit(img_test,50)\n",
    "test_cells = []\n",
    "for d in img_test:\n",
    "    d = d.ravel()\n",
    "    test_cells.append(d)"
   ]
  },
  {
   "cell_type": "markdown",
   "metadata": {},
   "source": [
    "# KNN"
   ]
  },
  {
   "cell_type": "code",
   "execution_count": 47,
   "metadata": {
    "scrolled": false
   },
   "outputs": [],
   "source": [
    "# KNN\n",
    "cells = np.array(cells, dtype=np.float32)\n",
    "test_cells = np.array(test_cells, dtype=np.float32)\n",
    "knn = cv2.ml.KNearest_create()\n",
    "knn.train(cells, cv2.ml.ROW_SAMPLE, label)\n",
    "ret, result, neighbours, dist = knn.findNearest(test_cells, k=3)\n",
    "\n",
    "# print(result)"
   ]
  },
  {
   "cell_type": "code",
   "execution_count": 48,
   "metadata": {},
   "outputs": [
    {
     "name": "stdout",
     "output_type": "stream",
     "text": [
      "90.0 %\n"
     ]
    }
   ],
   "source": [
    "a = np.arange(10)\n",
    "t = np.repeat(a, 5)\n",
    "count = 0\n",
    "for i in range (len(t)) :\n",
    "    if (result[i] == t[i]) :\n",
    "        count += 1\n",
    "acc = (count / 50) * 100\n",
    "print(acc, \"%\")"
   ]
  },
  {
   "cell_type": "markdown",
   "metadata": {},
   "source": [
    "# MKNN"
   ]
  },
  {
   "cell_type": "code",
   "execution_count": 51,
   "metadata": {},
   "outputs": [],
   "source": [
    "#Euclidean per digit\n",
    "d_between_digit = []\n",
    "for digit_home in cells:\n",
    "    d_per_digit = []\n",
    "    for digit_away in cells:\n",
    "        total = 0\n",
    "        for i in range(400):\n",
    "            sum = (digit_home[i] - digit_away[i])**2\n",
    "            total = total + sum\n",
    "        d_per_digit.append(sqrt(total))\n",
    "    d_between_digit.append(d_per_digit)"
   ]
  },
  {
   "cell_type": "code",
   "execution_count": 52,
   "metadata": {},
   "outputs": [],
   "source": [
    "#Validasi data training, 3 minimum data euclidean\n",
    "h = 10\n",
    "validity = []\n",
    "for lbl, digit in zip(label, d_between_digit):\n",
    "    smallest = nsmallest(h+1, digit)\n",
    "    id_smallest = []\n",
    "    for num in smallest:\n",
    "        id_smallest.append(digit.index(num))\n",
    "    count = 0\n",
    "    for i in range(h):\n",
    "        if lbl == label[id_smallest[i+1]]:\n",
    "            count += 1\n",
    "    validity.append(count/h)"
   ]
  },
  {
   "cell_type": "code",
   "execution_count": 53,
   "metadata": {},
   "outputs": [],
   "source": [
    "# for i in range(len(validity)):\n",
    "#     print(i, \" \", validity[i])"
   ]
  },
  {
   "cell_type": "code",
   "execution_count": 54,
   "metadata": {},
   "outputs": [],
   "source": [
    "#Euclidean data test\n",
    "d_test_to_train = []\n",
    "for digit_home in test_cells:\n",
    "    d_per_digit = []\n",
    "    for digit_away in cells:\n",
    "        total = 0\n",
    "        for i in range(400):\n",
    "            sum = (digit_home[i] - digit_away[i])**2\n",
    "            total = total + sum\n",
    "        d_per_digit.append(sqrt(total))\n",
    "    d_test_to_train.append(d_per_digit)"
   ]
  },
  {
   "cell_type": "code",
   "execution_count": 55,
   "metadata": {},
   "outputs": [],
   "source": [
    "# d_test_to_train[0]"
   ]
  },
  {
   "cell_type": "code",
   "execution_count": 56,
   "metadata": {},
   "outputs": [],
   "source": [
    "#Weight Voting\n",
    "weight_vote = []\n",
    "for digit in d_test_to_train:\n",
    "    w = []\n",
    "    for dist, valid in zip(digit, validity):\n",
    "        w.append(valid*(1/(dist+0.5)))\n",
    "    weight_vote.append(w)"
   ]
  },
  {
   "cell_type": "code",
   "execution_count": 57,
   "metadata": {},
   "outputs": [],
   "source": [
    "# len(weight_vote[0])"
   ]
  },
  {
   "cell_type": "code",
   "execution_count": 58,
   "metadata": {},
   "outputs": [],
   "source": [
    "k=3\n",
    "predict = []\n",
    "for digit in weight_vote:\n",
    "    largest = nlargest(k, digit)\n",
    "    largest_class = []\n",
    "    for num in largest:\n",
    "        largest_class.append(label[digit.index(num)])\n",
    "    predict.append(max(set(largest_class), key = largest_class.count))"
   ]
  },
  {
   "cell_type": "code",
   "execution_count": 59,
   "metadata": {
    "scrolled": true
   },
   "outputs": [],
   "source": [
    "# predict"
   ]
  },
  {
   "cell_type": "code",
   "execution_count": 60,
   "metadata": {},
   "outputs": [
    {
     "name": "stdout",
     "output_type": "stream",
     "text": [
      "88.0\n"
     ]
    }
   ],
   "source": [
    "count = 0\n",
    "a = np.arange(10)\n",
    "t = np.repeat(a, 5)\n",
    "for num, lbl in zip(predict, t):\n",
    "    if num == lbl:\n",
    "        count += 1\n",
    "accuracy_MKNN = count/len(predict)\n",
    "print(accuracy_MKNN * 100)"
   ]
  },
  {
   "cell_type": "code",
   "execution_count": null,
   "metadata": {},
   "outputs": [],
   "source": []
  }
 ],
 "metadata": {
  "kernelspec": {
   "display_name": "Python 3",
   "language": "python",
   "name": "python3"
  },
  "language_info": {
   "codemirror_mode": {
    "name": "ipython",
    "version": 3
   },
   "file_extension": ".py",
   "mimetype": "text/x-python",
   "name": "python",
   "nbconvert_exporter": "python",
   "pygments_lexer": "ipython3",
   "version": "3.7.3"
  }
 },
 "nbformat": 4,
 "nbformat_minor": 2
}
