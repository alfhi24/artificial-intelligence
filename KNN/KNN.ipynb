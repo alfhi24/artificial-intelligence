{
  "nbformat": 4,
  "nbformat_minor": 0,
  "metadata": {
    "colab": {
      "name": "KNN.ipynb",
      "provenance": [],
      "collapsed_sections": []
    },
    "kernelspec": {
      "name": "python3",
      "display_name": "Python 3"
    }
  },
  "cells": [
    {
      "cell_type": "code",
      "metadata": {
        "id": "x0PoesLfQQtK",
        "colab_type": "code",
        "colab": {}
      },
      "source": [
        "import numpy as np\n",
        "import matplotlib.pyplot as plt\n",
        "import pandas as pd"
      ],
      "execution_count": 0,
      "outputs": []
    },
    {
      "cell_type": "code",
      "metadata": {
        "id": "s2QKHEuHQS89",
        "colab_type": "code",
        "colab": {}
      },
      "source": [
        "# Input data - [SAT Score, GPA]\n",
        "data = [[1360,2.4 ], [1540,2.7], [1600,2.6], [1400,2.5], [1520,2.5], [1380,2.1], [1420,2.3], [1490,2.3], [1510,2.4],\n",
        "     [1350,3.9], [1500,2.9], [1440,2.5], [1380,3.7], [1430,2.1], [1420,3.9], [1430,3.4], [1450,3.7], [1350,2.0],\n",
        "     [1430,3.0], [1540,3.7], [1370,3.8], [1490,3.7], [1520,3.5], [1300,3.1], [1360,2.9], [1460,3.3], [1510,3.4],\n",
        "     [1340,2.9], [1590,2.9], [1320,2.5], [1380,2.6], [1400,2.1], [1540,2.4], [1310,2.7], [1410,2.1], [1305,2.5],\n",
        "     [1460,2.7], [1360,3.7], [1300,3.5], [1320,3.6], [1400,2.7], [1540,3.4], [1350,3.1], [1560,3.3], [1305,3.9], \n",
        "     [1590,3.9], [1440,2.3], [1600,3.6], [1320,2.5], [1410,3.6], [1590,2.7], [1560,2.3], [1310,2.1], [1460,3.2]]\n",
        "\n",
        "# Labels - Accepted or Rejected\n",
        "label = ['rejected','accepted','accepted','rejected','accepted','rejected','rejected','accepted','accepted',\n",
        "     'accepted','rejected','rejected','accepted','rejected','accepted','accepted','accepted','rejected',\n",
        "     'rejected','accepted','rejected','accepted','accepted','rejected','rejected','accepted','accepted',\n",
        "     'rejected','accepted','rejected','rejected','rejected','accepted','rejected','rejected','rejected',\n",
        "     'rejected','accepted','accepted','rejected','rejected','accepted','rejected','accepted','rejected',\n",
        "     'accepted','rejected','accepted','rejected','accepted','accepted','accepted','rejected','accepted']\n"
      ],
      "execution_count": 0,
      "outputs": []
    },
    {
      "cell_type": "code",
      "metadata": {
        "id": "2-x_iglUQXYj",
        "colab_type": "code",
        "colab": {
          "base_uri": "https://localhost:8080/",
          "height": 1000
        },
        "outputId": "85eaaab9-16ff-4804-d40f-a352bc69190c"
      },
      "source": [
        "datas = pd.DataFrame()\n",
        "datas['data'] = data\n",
        "datas['label'] = label\n",
        "# print(datas)\n",
        "\n",
        "datas_copy = datas.copy()\n",
        "data_train = datas_copy.sample(frac=0.75, random_state=0)\n",
        "data_test = datas_copy.drop(data_train.index)\n",
        "print ('Data Training')\n",
        "print(data_train)\n",
        "print ('\\nData Test')\n",
        "print(data_test)\n"
      ],
      "execution_count": 17,
      "outputs": [
        {
          "output_type": "stream",
          "text": [
            "Data Training\n",
            "           data     label\n",
            "53  [1460, 3.2]  accepted\n",
            "33  [1310, 2.7]  rejected\n",
            "48  [1320, 2.5]  rejected\n",
            "26  [1510, 3.4]  accepted\n",
            "11  [1440, 2.5]  rejected\n",
            "2   [1600, 2.6]  accepted\n",
            "32  [1540, 2.4]  accepted\n",
            "42  [1350, 3.1]  rejected\n",
            "45  [1590, 3.9]  accepted\n",
            "30  [1380, 2.6]  rejected\n",
            "4   [1520, 2.5]  accepted\n",
            "10  [1500, 2.9]  rejected\n",
            "28  [1590, 2.9]  accepted\n",
            "22  [1520, 3.5]  accepted\n",
            "31  [1400, 2.1]  rejected\n",
            "38  [1300, 3.5]  accepted\n",
            "37  [1360, 3.7]  accepted\n",
            "7   [1490, 2.3]  accepted\n",
            "14  [1420, 3.9]  accepted\n",
            "27  [1340, 2.9]  rejected\n",
            "35  [1305, 2.5]  rejected\n",
            "49  [1410, 3.6]  accepted\n",
            "18  [1430, 3.0]  rejected\n",
            "51  [1560, 2.3]  accepted\n",
            "34  [1410, 2.1]  rejected\n",
            "15  [1430, 3.4]  accepted\n",
            "5   [1380, 2.1]  rejected\n",
            "29  [1320, 2.5]  rejected\n",
            "16  [1450, 3.7]  accepted\n",
            "46  [1440, 2.3]  rejected\n",
            "20  [1370, 3.8]  rejected\n",
            "52  [1310, 2.1]  rejected\n",
            "8   [1510, 2.4]  accepted\n",
            "13  [1430, 2.1]  rejected\n",
            "25  [1460, 3.3]  accepted\n",
            "17  [1350, 2.0]  rejected\n",
            "40  [1400, 2.7]  rejected\n",
            "43  [1560, 3.3]  accepted\n",
            "1   [1540, 2.7]  accepted\n",
            "12  [1380, 3.7]  accepted\n",
            "\n",
            "Data Test\n",
            "           data     label\n",
            "0   [1360, 2.4]  rejected\n",
            "3   [1400, 2.5]  rejected\n",
            "6   [1420, 2.3]  rejected\n",
            "9   [1350, 3.9]  accepted\n",
            "19  [1540, 3.7]  accepted\n",
            "21  [1490, 3.7]  accepted\n",
            "23  [1300, 3.1]  rejected\n",
            "24  [1360, 2.9]  rejected\n",
            "36  [1460, 2.7]  rejected\n",
            "39  [1320, 3.6]  rejected\n",
            "41  [1540, 3.4]  accepted\n",
            "44  [1305, 3.9]  rejected\n",
            "47  [1600, 3.6]  accepted\n",
            "50  [1590, 2.7]  accepted\n"
          ],
          "name": "stdout"
        }
      ]
    },
    {
      "cell_type": "code",
      "metadata": {
        "id": "xwWY2eWvQZWQ",
        "colab_type": "code",
        "colab": {}
      },
      "source": [
        "dtrain = np.copy(data_train)\n",
        "dtest = np.copy(data_test)"
      ],
      "execution_count": 0,
      "outputs": []
    },
    {
      "cell_type": "code",
      "metadata": {
        "id": "s7UhljckEMlJ",
        "colab_type": "code",
        "colab": {
          "base_uri": "https://localhost:8080/",
          "height": 51
        },
        "outputId": "3bfff137-d12f-4a4e-f1d0-89343583aae8"
      },
      "source": [
        "print(dtrain[0][0][1])\n",
        "print(len(dtrain))"
      ],
      "execution_count": 23,
      "outputs": [
        {
          "output_type": "stream",
          "text": [
            "3.2\n",
            "40\n"
          ],
          "name": "stdout"
        }
      ]
    },
    {
      "cell_type": "code",
      "metadata": {
        "id": "niE8b1YWTeR1",
        "colab_type": "code",
        "colab": {}
      },
      "source": [
        "def distance(data, x) :\n",
        "  \n",
        "    neigh = []\n",
        "    for i in range(len(data)) :\n",
        "        dis = np.sqrt(((x[0] - data[i][0][0]) ** 2) + ((x[1] - data[i][0][1]) ** 2))\n",
        "        neigh.append([data[i][0][0], data[i][0][1], dis])\n",
        "        arr_dis = sorted(neigh, key=lambda x: x[2])\n",
        "    return arr_dis"
      ],
      "execution_count": 0,
      "outputs": []
    },
    {
      "cell_type": "code",
      "metadata": {
        "id": "K0aifYE0Evym",
        "colab_type": "code",
        "colab": {
          "base_uri": "https://localhost:8080/",
          "height": 34
        },
        "outputId": "e6d9f8f8-023b-46b9-8911-59e3bd3633e6"
      },
      "source": [
        "x = [1579, 3.0]\n",
        "print(distance(dtrain, x)[0])"
      ],
      "execution_count": 24,
      "outputs": [
        {
          "output_type": "stream",
          "text": [
            "[1590, 2.9, 11.000454536063499]\n"
          ],
          "name": "stdout"
        }
      ]
    },
    {
      "cell_type": "code",
      "metadata": {
        "id": "-QLC9bXSTkBN",
        "colab_type": "code",
        "colab": {}
      },
      "source": [
        "def knn(dtrain,dtest, x, k) :\n",
        "    neighbor = []\n",
        "    acc = 0\n",
        "    rej = 0\n",
        "    lab = []\n",
        "    for i in range(k) :\n",
        "        neighbor.append([distance(data,x)[i][0], distance(data,x)[i][1]])\n",
        "    for j in range (len(neighbor)) :\n",
        "        l = 0\n",
        "        while (neighbor[j] != data[l]) and (l <= len(data)) :\n",
        "            l += 1\n",
        "        if (neighbor[j] == data[l]) :\n",
        "            if (label[l] == 'accepted') :\n",
        "                acc += 1\n",
        "            else :\n",
        "                rej += 1\n",
        "    if acc > rej :\n",
        "        return (\"data accepted\")\n",
        "    else :\n",
        "        return (\"data rejected\")\n",
        "    return acc,rej\n"
      ],
      "execution_count": 0,
      "outputs": []
    }
  ]
}
